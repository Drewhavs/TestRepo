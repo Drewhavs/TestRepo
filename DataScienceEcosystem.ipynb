{
 "cells": [
  {
   "cell_type": "markdown",
   "id": "1457d965-884f-42a2-b08b-5d413e458816",
   "metadata": {},
   "source": [
    "## Data Science Tools and Ecosystem"
   ]
  },
  {
   "cell_type": "markdown",
   "id": "22cbafbe-418f-4913-a052-6cbd52cf6482",
   "metadata": {},
   "source": [
    "In this notebook, Data Science tools and ecostyem are summarized"
   ]
  },
  {
   "cell_type": "markdown",
   "id": "93bce874-f229-4ab6-aeb0-a78fe26be944",
   "metadata": {},
   "source": [
    "## Author: Andrew Havrilla"
   ]
  },
  {
   "cell_type": "markdown",
   "id": "ee981cc0-7dba-4010-bf36-c09a2f3fc94a",
   "metadata": {},
   "source": [
    "**Objectives:**\n",
    "\n",
    "* List popular languages for Data Science\n",
    "* List popular libraries\n",
    "* Perform calculations\n",
    "* Convert hours to minutes"
   ]
  },
  {
   "cell_type": "markdown",
   "id": "9fac0322-4638-4cbd-a4d1-d0ade69bde6b",
   "metadata": {},
   "source": [
    "Some of the popular languages that Data Scientists use are:\n",
    "\n",
    "1. Python\n",
    "2. SQL\n",
    "3. R"
   ]
  },
  {
   "cell_type": "markdown",
   "id": "9f1b2901-aaeb-4a13-99ee-0adeadf5b08c",
   "metadata": {},
   "source": [
    "Some of the commonly used libraries used by Data Scientists include:\n",
    "\n",
    "1. Pandas\n",
    "2. matplotlib\n",
    "3. Numpy\n"
   ]
  },
  {
   "cell_type": "markdown",
   "id": "a63202ee-be9a-487c-b3f0-cb34e6b23611",
   "metadata": {},
   "source": [
    "\n",
    "| Data Science Tools | \n",
    "|----------|\n",
    "| Jupyter Notebooks   | \n",
    "| RStudio    |\n",
    "| Google Colab    |\n"
   ]
  },
  {
   "cell_type": "markdown",
   "id": "19fc3443-a707-4bfd-8e71-894d7006b3f3",
   "metadata": {},
   "source": [
    "### Below are a few examples of evaluating arithmetic expressions in Python"
   ]
  },
  {
   "cell_type": "code",
   "execution_count": 2,
   "id": "37854d93-1425-4af5-a175-7905155c4d1e",
   "metadata": {},
   "outputs": [
    {
     "data": {
      "text/plain": [
       "17"
      ]
     },
     "execution_count": 2,
     "metadata": {},
     "output_type": "execute_result"
    }
   ],
   "source": [
    "# This a simple arithmetic expression to mutiply then add integers\n",
    "(3*4)+5"
   ]
  },
  {
   "cell_type": "code",
   "execution_count": 3,
   "id": "55264109-ab09-4cf0-a74f-14f81484be06",
   "metadata": {},
   "outputs": [
    {
     "data": {
      "text/plain": [
       "12000"
      ]
     },
     "execution_count": 3,
     "metadata": {},
     "output_type": "execute_result"
    }
   ],
   "source": [
    "# This will convert 200 minutes to hours by diving by 60\n",
    "200*60\n"
   ]
  },
  {
   "cell_type": "code",
   "execution_count": null,
   "id": "bfabb770-0802-4705-a14d-c53dd2e9b816",
   "metadata": {},
   "outputs": [],
   "source": [
    "DS0105EN/labs/Module2_Coursera/DataScienceEcosystem.ipynb"
   ]
  }
 ],
 "metadata": {
  "kernelspec": {
   "display_name": "Python 3 (ipykernel)",
   "language": "python",
   "name": "python3"
  },
  "language_info": {
   "codemirror_mode": {
    "name": "ipython",
    "version": 3
   },
   "file_extension": ".py",
   "mimetype": "text/x-python",
   "name": "python",
   "nbconvert_exporter": "python",
   "pygments_lexer": "ipython3",
   "version": "3.12.8"
  }
 },
 "nbformat": 4,
 "nbformat_minor": 5
}
